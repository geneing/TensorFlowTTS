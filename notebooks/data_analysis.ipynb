{
 "metadata": {
  "language_info": {
   "codemirror_mode": {
    "name": "ipython",
    "version": 3
   },
   "file_extension": ".py",
   "mimetype": "text/x-python",
   "name": "python",
   "nbconvert_exporter": "python",
   "pygments_lexer": "ipython3",
   "version": "3.8.2-final"
  },
  "orig_nbformat": 2,
  "kernelspec": {
   "name": "python_defaultSpec_1599800784394",
   "display_name": "Python 3.8.2 64-bit"
  }
 },
 "nbformat": 4,
 "nbformat_minor": 2,
 "cells": [
  {
   "cell_type": "code",
   "execution_count": 11,
   "metadata": {},
   "outputs": [],
   "source": [
    "import numpy as np\n",
    "import glob\n",
    "import json\n",
    "import g2p_en\n",
    "g2p = g2p_en.G2p()"
   ]
  },
  {
   "cell_type": "code",
   "execution_count": 22,
   "metadata": {},
   "outputs": [],
   "source": [
    "f0_files=glob.glob(\"/home/eugening/Neural/MachineLearning/Speech/TrainingData/LJSpeech-1.0.TensorFlowTTS/train/raw-f0/*.npy\")\n",
    "energy_files=glob.glob(\"/home/eugening/Neural/MachineLearning/Speech/TrainingData/LJSpeech-1.0.TensorFlowTTS/train/raw-energies/*.npy\")\n",
    "ids_files=glob.glob(\"/home/eugening/Neural/MachineLearning/Speech/TrainingData/LJSpeech-1.0.TensorFlowTTS/train/ids/*.npy\")\n",
    "dur_files=glob.glob(\"/home/eugening/Neural/MachineLearning/Speech/TrainingData/LJSpeech-1.0.TensorFlowTTS/train/fix_dur/*.npy\")\n",
    "energy_files.sort()\n",
    "f0_files.sort()\n",
    "ids_files.sort()\n",
    "dur_files.sort()\n"
   ]
  },
  {
   "cell_type": "code",
   "execution_count": 13,
   "metadata": {},
   "outputs": [],
   "source": [
    "with open('/home/eugening/Neural/MachineLearning/Speech/TensorFlowTTS/tensorflow_tts/processor/pretrained/ljspeech_mapper.json','r') as f:\n",
    "    lj_mapper=json.load(f)\n",
    "    id2sym=lj_mapper['id_to_symbol']\n"
   ]
  },
  {
   "cell_type": "code",
   "execution_count": 23,
   "metadata": {},
   "outputs": [],
   "source": [
    "for (f0_file, energy_file, ids_file) in zip(f0_files, energy_files, ids_files):\n",
    "    f0=np.load(f0_file)\n",
    "    energy=np.load(energy_file)\n",
    "    ids=np.load(ids_file)\n",
    "    if energy.shape[0] != f0.shape[0]:\n",
    "        print(f0_file)"
   ]
  },
  {
   "cell_type": "code",
   "execution_count": 24,
   "metadata": {},
   "outputs": [
    {
     "output_type": "execute_result",
     "data": {
      "text/plain": "array([ 46,  57,  11,  50,  58,  56,  57,  11,  39,  42,  11,  55,  42,\n        50,  42,  50,  39,  42,  55,  42,  41,   6,  11,  45,  52,  60,\n        42,  59,  42,  55,   6,  11,  57,  45,  38,  57,  11,  50,  52,\n        56,  57,  11,  50,  52,  41,  42,  55,  51,  11,  53,  55,  46,\n        51,  57,  46,  51,  44,  11,  46,  56,  11,  41,  52,  51,  42,\n        11,  39,  62,  11,  50,  38,  40,  45,  46,  51,  42,  55,  62,\n        11,  52,  51,  11,  56,  52,  43,  57,  11,  53,  38,  53,  42,\n        55,   6,  11,  38,  51,  41,  11,  51,  52,  57,  11,  39,  62,\n        11,  57,  45,  42,  11,  45,  38,  51,  41,  11,  53,  55,  42,\n        56,  56,   6, 140], dtype=int32)"
     },
     "metadata": {},
     "execution_count": 24
    }
   ],
   "source": [
    "ids"
   ]
  },
  {
   "cell_type": "code",
   "execution_count": 6,
   "metadata": {},
   "outputs": [],
   "source": [
    "for (f0_file, energy_file, ids_file, dur_file) in zip(f0_files, energy_files, ids_files, dur_files):\n",
    "    f0=np.load(f0_file)\n",
    "    energy=np.load(energy_file)\n",
    "    ids=np.load(ids_file)\n",
    "    dur=np.load(dur_file)\n",
    "    if energy.shape[0] != f0.shape[0]:\n",
    "        print(f0_file)"
   ]
  },
  {
   "cell_type": "code",
   "execution_count": 25,
   "metadata": {},
   "outputs": [],
   "source": [
    "txt=\"\".join([id2sym[str(i)] for i in  ids])"
   ]
  },
  {
   "cell_type": "code",
   "execution_count": 26,
   "metadata": {
    "tags": []
   },
   "outputs": [
    {
     "output_type": "execute_result",
     "data": {
      "text/plain": "121"
     },
     "metadata": {},
     "execution_count": 26
    }
   ],
   "source": [
    "len(ids)"
   ]
  },
  {
   "cell_type": "code",
   "execution_count": 27,
   "metadata": {
    "tags": []
   },
   "outputs": [
    {
     "output_type": "stream",
     "name": "stdout",
     "text": "['IH1', 'T', ' ', 'M', 'AH1', 'S', 'T', ' ', 'B', 'IY1', ' ', 'R', 'IH0', 'M', 'EH1', 'M', 'B', 'ER0', 'D', ' ', ',', ' ', 'HH', 'AW2', 'EH1', 'V', 'ER0', ' ', ',', ' ', 'DH', 'AE1', 'T', ' ', 'M', 'OW1', 'S', 'T', ' ', 'M', 'AA1', 'D', 'ER0', 'N', ' ', 'P', 'R', 'IH1', 'N', 'T', 'IH0', 'NG', ' ', 'IH1', 'Z', ' ', 'D', 'AH1', 'N', ' ', 'B', 'AY1', ' ', 'M', 'AH0', 'SH', 'IY1', 'N', 'ER0', 'IY0', ' ', 'AA1', 'N', ' ', 'S', 'AA1', 'F', 'T', ' ', 'P', 'EY1', 'P', 'ER0', ' ', ',', ' ', 'AH0', 'N', 'D', ' ', 'N', 'AA1', 'T', ' ', 'B', 'AY1', ' ', 'DH', 'AH0', ' ', 'HH', 'AE1', 'N', 'D', ' ', 'P', 'R', 'EH1', 'S', ' ', ',', ' ', 'IY1', 'AA0', 'S']\n"
    },
    {
     "output_type": "execute_result",
     "data": {
      "text/plain": "115"
     },
     "metadata": {},
     "execution_count": 27
    }
   ],
   "source": [
    "ph=g2p(txt)\n",
    "print(ph)\n",
    "len(ph)"
   ]
  },
  {
   "cell_type": "code",
   "execution_count": 26,
   "metadata": {
    "tags": []
   },
   "outputs": [
    {
     "output_type": "stream",
     "name": "stdout",
     "text": "@IH1@SIL@SIL@SIL@AH1@SIL@SIL@SIL@SIL@IY1@SIL@SIL@IH0@SIL@EH1@SIL@SIL@ER0@SIL@SIL@SIL@SIL@HH@AW2@EH1@SIL@ER0@SIL@SIL@SIL@DH@AE1@SIL@SIL@SIL@OW1@SIL@SIL@SIL@SIL@AA1@SIL@ER0@SIL@SIL@SIL@SIL@IH1@SIL@SIL@IH0@NG@SIL@IH1@SIL@SIL@SIL@AH1@SIL@SIL@SIL@AY1@SIL@SIL@AH0@SH@IY1@SIL@ER0@IY0@SIL@AA1@SIL@SIL@SIL@AA1@SIL@SIL@SIL@SIL@EY1@SIL@ER0@SIL@SIL@SIL@AH0@SIL@SIL@SIL@SIL@AA1@SIL@SIL@SIL@AY1@SIL@DH@AH0@SIL@HH@AE1@SIL@SIL@SIL@SIL@SIL@EH1@SIL@SIL@END\nAY2 AH0 N OW0 S HH AY0 D R AH0 L EY1 SH AH0 N AH0 S L IY0\n"
    }
   ],
   "source": [
    "print(txt)\n",
    "print(\" \".join(ph))\n"
   ]
  },
  {
   "cell_type": "code",
   "execution_count": 27,
   "metadata": {},
   "outputs": [
    {
     "output_type": "execute_result",
     "data": {
      "text/plain": "((693,), (693,), (111,), (86,), 693)"
     },
     "metadata": {},
     "execution_count": 27
    }
   ],
   "source": [
    "(f0.shape,\n",
    "energy.shape,\n",
    "ids.shape,\n",
    "dur.shape,\n",
    "dur.sum())\n"
   ]
  },
  {
   "cell_type": "code",
   "execution_count": null,
   "metadata": {},
   "outputs": [],
   "source": []
  },
  {
   "cell_type": "code",
   "execution_count": 5,
   "metadata": {
    "tags": []
   },
   "outputs": [
    {
     "output_type": "stream",
     "name": "stdout",
     "text": "(2, 1) (2, 1)\n"
    }
   ],
   "source": [
    "f0=np.load(\"/home/eugening/Neural/MachineLearning/Speech/TrainingData/LJSpeech-1.0.TensorFlowTTS/stats_f0.npy\")\n",
    "en=np.load(\"/home/eugening/Neural/MachineLearning/Speech/TrainingData/LJSpeech-1.0.TensorFlowTTS/stats_energy.npy\")\n",
    "print(f0.shape, en.shape)"
   ]
  },
  {
   "cell_type": "code",
   "execution_count": 45,
   "metadata": {},
   "outputs": [
    {
     "output_type": "execute_result",
     "data": {
      "text/plain": "2"
     },
     "metadata": {},
     "execution_count": 45
    }
   ],
   "source": [
    "ph.find(' ')"
   ]
  },
  {
   "cell_type": "code",
   "execution_count": 15,
   "metadata": {},
   "outputs": [
    {
     "output_type": "execute_result",
     "data": {
      "text/plain": "array([ 46,  57,  11,  50,  58,  56,  57,  11,  39,  42,  11,  55,  42,\n        50,  42,  50,  39,  42,  55,  42,  41,   6,  11,  45,  52,  60,\n        42,  59,  42,  55,   6,  11,  57,  45,  38,  57,  11,  50,  52,\n        56,  57,  11,  50,  52,  41,  42,  55,  51,  11,  53,  55,  46,\n        51,  57,  46,  51,  44,  11,  46,  56,  11,  41,  52,  51,  42,\n        11,  39,  62,  11,  50,  38,  40,  45,  46,  51,  42,  55,  62,\n        11,  52,  51,  11,  56,  52,  43,  57,  11,  53,  38,  53,  42,\n        55,   6,  11,  38,  51,  41,  11,  51,  52,  57,  11,  39,  62,\n        11,  57,  45,  42,  11,  45,  38,  51,  41,  11,  53,  55,  42,\n        56,  56,   6, 140], dtype=int32)"
     },
     "metadata": {},
     "execution_count": 15
    }
   ],
   "source": [
    "ids"
   ]
  },
  {
   "cell_type": "code",
   "execution_count": 29,
   "metadata": {},
   "outputs": [
    {
     "output_type": "execute_result",
     "data": {
      "text/plain": "(94,)"
     },
     "metadata": {},
     "execution_count": 29
    }
   ],
   "source": [
    "tui = np.load(\"/home/eugening/Neural/MachineLearning/Speech/TrainingData/LJSpeech-1.0.TensorFlowTTS/train_utt_ids.npy\")\n",
    "tui.shape"
   ]
  },
  {
   "cell_type": "code",
   "execution_count": null,
   "metadata": {},
   "outputs": [],
   "source": []
  }
 ]
}